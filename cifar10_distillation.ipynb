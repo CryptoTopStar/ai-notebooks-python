{
 "cells": [
  {
   "cell_type": "code",
   "execution_count": 1,
   "metadata": {},
   "outputs": [],
   "source": [
    "# Attempt to train an mnist model and distill it into a smaller model\n",
    "# conclusion, distillation is a scam, at least for mnist\n",
    "# seems to also be a scam for CIFAR"
   ]
  },
  {
   "cell_type": "code",
   "execution_count": 2,
   "metadata": {},
   "outputs": [
    {
     "name": "stdout",
     "output_type": "stream",
     "text": [
      "Populating the interactive namespace from numpy and matplotlib\n"
     ]
    }
   ],
   "source": [
    "%pylab inline\n",
    "import os\n",
    "import time\n",
    "import random\n",
    "os.environ['CUDA_VISIBLE_DEVICES'] = '0'\n",
    "\n",
    "import tensorflow as tf\n",
    "from tensorflow.keras.optimizers import Adam\n",
    "from tensorflow.keras.layers import *\n",
    "from tensorflow.keras.models import Model\n",
    "from tensorflow.keras.datasets import cifar10\n",
    "(x_train, y_train), (x_test, y_test) = cifar10.load_data()\n",
    "x_train, x_test = [x/255.0 for x in [x_train, x_test]]\n",
    "y_train, y_test = [tf.keras.utils.to_categorical(x) for x in [y_train, y_test]]"
   ]
  },
  {
   "cell_type": "code",
   "execution_count": 3,
   "metadata": {},
   "outputs": [],
   "source": [
    "def get_m(scale=64, loss='categorical_crossentropy'):\n",
    "    x = in1 = Input((32,32,3))\n",
    "\n",
    "    x = Conv2D(scale, (3,3), padding='same', strides=(2,2))(x)\n",
    "    x = ELU()(x)\n",
    "\n",
    "    x = Conv2D(2*scale, (3,3), padding='same', strides=(2,2))(x)\n",
    "    x = ELU()(x)\n",
    "\n",
    "    x = Flatten()(x)\n",
    "    x = Dense(128)(x)\n",
    "    x = ELU()(x)\n",
    "    x = Dense(10, activation='softmax')(x)\n",
    "\n",
    "    m = Model(in1, x)\n",
    "    m.compile('adam', loss, metrics=['accuracy'])\n",
    "    return m"
   ]
  },
  {
   "cell_type": "code",
   "execution_count": 4,
   "metadata": {},
   "outputs": [
    {
     "name": "stdout",
     "output_type": "stream",
     "text": [
      "Model: \"model\"\n",
      "_________________________________________________________________\n",
      "Layer (type)                 Output Shape              Param #   \n",
      "=================================================================\n",
      "input_1 (InputLayer)         [(None, 32, 32, 3)]       0         \n",
      "_________________________________________________________________\n",
      "conv2d (Conv2D)              (None, 16, 16, 64)        1792      \n",
      "_________________________________________________________________\n",
      "elu (ELU)                    (None, 16, 16, 64)        0         \n",
      "_________________________________________________________________\n",
      "conv2d_1 (Conv2D)            (None, 8, 8, 128)         73856     \n",
      "_________________________________________________________________\n",
      "elu_1 (ELU)                  (None, 8, 8, 128)         0         \n",
      "_________________________________________________________________\n",
      "flatten (Flatten)            (None, 8192)              0         \n",
      "_________________________________________________________________\n",
      "dense (Dense)                (None, 128)               1048704   \n",
      "_________________________________________________________________\n",
      "elu_2 (ELU)                  (None, 128)               0         \n",
      "_________________________________________________________________\n",
      "dense_1 (Dense)              (None, 10)                1290      \n",
      "=================================================================\n",
      "Total params: 1,125,642\n",
      "Trainable params: 1,125,642\n",
      "Non-trainable params: 0\n",
      "_________________________________________________________________\n"
     ]
    }
   ],
   "source": [
    "m = get_m()\n",
    "m.summary()"
   ]
  },
  {
   "cell_type": "code",
   "execution_count": 5,
   "metadata": {},
   "outputs": [
    {
     "name": "stdout",
     "output_type": "stream",
     "text": [
      "Train on 50000 samples, validate on 10000 samples\n",
      "Epoch 1/5\n",
      "50000/50000 [==============================] - 14s 289us/sample - loss: 1.7983 - accuracy: 0.3580 - val_loss: 1.5966 - val_accuracy: 0.4453\n",
      "Epoch 2/5\n",
      "50000/50000 [==============================] - 14s 288us/sample - loss: 1.5088 - accuracy: 0.4696 - val_loss: 1.4716 - val_accuracy: 0.4775\n",
      "Epoch 3/5\n",
      "50000/50000 [==============================] - 14s 284us/sample - loss: 1.3744 - accuracy: 0.5152 - val_loss: 1.4038 - val_accuracy: 0.5014\n",
      "Epoch 4/5\n",
      "50000/50000 [==============================] - 14s 285us/sample - loss: 1.2536 - accuracy: 0.5579 - val_loss: 1.3376 - val_accuracy: 0.5258\n",
      "Epoch 5/5\n",
      "50000/50000 [==============================] - 14s 285us/sample - loss: 1.1435 - accuracy: 0.5981 - val_loss: 1.3613 - val_accuracy: 0.5215\n",
      "50000/50000 [==============================] - 6s 125us/sample\n"
     ]
    }
   ],
   "source": [
    "m.fit(x_train, y_train, validation_data=(x_test, y_test), batch_size=128, epochs=5)\n",
    "rv = m.predict(x_train, verbose=1)"
   ]
  },
  {
   "cell_type": "code",
   "execution_count": 6,
   "metadata": {},
   "outputs": [
    {
     "name": "stdout",
     "output_type": "stream",
     "text": [
      "Model: \"model_1\"\n",
      "_________________________________________________________________\n",
      "Layer (type)                 Output Shape              Param #   \n",
      "=================================================================\n",
      "input_2 (InputLayer)         [(None, 32, 32, 3)]       0         \n",
      "_________________________________________________________________\n",
      "conv2d_2 (Conv2D)            (None, 16, 16, 4)         112       \n",
      "_________________________________________________________________\n",
      "elu_3 (ELU)                  (None, 16, 16, 4)         0         \n",
      "_________________________________________________________________\n",
      "conv2d_3 (Conv2D)            (None, 8, 8, 8)           296       \n",
      "_________________________________________________________________\n",
      "elu_4 (ELU)                  (None, 8, 8, 8)           0         \n",
      "_________________________________________________________________\n",
      "flatten_1 (Flatten)          (None, 512)               0         \n",
      "_________________________________________________________________\n",
      "dense_2 (Dense)              (None, 128)               65664     \n",
      "_________________________________________________________________\n",
      "elu_5 (ELU)                  (None, 128)               0         \n",
      "_________________________________________________________________\n",
      "dense_3 (Dense)              (None, 10)                1290      \n",
      "=================================================================\n",
      "Total params: 67,362\n",
      "Trainable params: 67,362\n",
      "Non-trainable params: 0\n",
      "_________________________________________________________________\n"
     ]
    }
   ],
   "source": [
    "sm1 = get_m(4)\n",
    "sm2 = get_m(4)\n",
    "sm1.summary()"
   ]
  },
  {
   "cell_type": "code",
   "execution_count": 7,
   "metadata": {},
   "outputs": [
    {
     "name": "stdout",
     "output_type": "stream",
     "text": [
      "Train on 50000 samples, validate on 10000 samples\n",
      "Epoch 1/3\n",
      "50000/50000 [==============================] - 4s 71us/sample - loss: 0.8286 - accuracy: 0.3826 - val_loss: 1.7425 - val_accuracy: 0.3817\n",
      "Epoch 2/3\n",
      "50000/50000 [==============================] - 3s 61us/sample - loss: 0.7156 - accuracy: 0.4965 - val_loss: 1.6442 - val_accuracy: 0.4198\n",
      "Epoch 3/3\n",
      "50000/50000 [==============================] - 3s 63us/sample - loss: 0.6614 - accuracy: 0.5613 - val_loss: 1.6090 - val_accuracy: 0.4279\n"
     ]
    },
    {
     "data": {
      "text/plain": [
       "<tensorflow.python.keras.callbacks.History at 0x159199890>"
      ]
     },
     "execution_count": 7,
     "metadata": {},
     "output_type": "execute_result"
    }
   ],
   "source": [
    "sm1.fit(x_train, rv, validation_data=(x_test, y_test), batch_size=128, epochs=3)"
   ]
  },
  {
   "cell_type": "code",
   "execution_count": 8,
   "metadata": {},
   "outputs": [
    {
     "name": "stdout",
     "output_type": "stream",
     "text": [
      "50000/50000 [==============================] - 2s 37us/sample - loss: 1.5750 - accuracy: 0.4441\n"
     ]
    },
    {
     "data": {
      "text/plain": [
       "[1.575022049560547, 0.44412]"
      ]
     },
     "execution_count": 8,
     "metadata": {},
     "output_type": "execute_result"
    }
   ],
   "source": [
    "sm1.evaluate(x_train, y_train)"
   ]
  },
  {
   "cell_type": "code",
   "execution_count": 9,
   "metadata": {},
   "outputs": [
    {
     "name": "stdout",
     "output_type": "stream",
     "text": [
      "Train on 50000 samples, validate on 10000 samples\n",
      "Epoch 1/3\n",
      "50000/50000 [==============================] - 3s 70us/sample - loss: 1.8284 - accuracy: 0.3523 - val_loss: 1.7143 - val_accuracy: 0.3960\n",
      "Epoch 2/3\n",
      "50000/50000 [==============================] - 3s 62us/sample - loss: 1.6540 - accuracy: 0.4218 - val_loss: 1.5993 - val_accuracy: 0.4405\n",
      "Epoch 3/3\n",
      "50000/50000 [==============================] - 3s 64us/sample - loss: 1.5471 - accuracy: 0.4557 - val_loss: 1.5292 - val_accuracy: 0.4618\n"
     ]
    },
    {
     "data": {
      "text/plain": [
       "<tensorflow.python.keras.callbacks.History at 0x15908bc90>"
      ]
     },
     "execution_count": 9,
     "metadata": {},
     "output_type": "execute_result"
    }
   ],
   "source": [
    "sm2.fit(x_train, y_train, validation_data=(x_test, y_test), batch_size=128, epochs=3)"
   ]
  },
  {
   "cell_type": "code",
   "execution_count": null,
   "metadata": {},
   "outputs": [],
   "source": []
  }
 ],
 "metadata": {
  "kernelspec": {
   "display_name": "Python 3",
   "language": "python",
   "name": "python3"
  },
  "language_info": {
   "codemirror_mode": {
    "name": "ipython",
    "version": 3
   },
   "file_extension": ".py",
   "mimetype": "text/x-python",
   "name": "python",
   "nbconvert_exporter": "python",
   "pygments_lexer": "ipython3",
   "version": "3.7.6"
  }
 },
 "nbformat": 4,
 "nbformat_minor": 2
}
