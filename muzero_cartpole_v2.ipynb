{
 "cells": [
  {
   "cell_type": "code",
   "execution_count": 1,
   "metadata": {},
   "outputs": [
    {
     "name": "stdout",
     "output_type": "stream",
     "text": [
      "Populating the interactive namespace from numpy and matplotlib\n"
     ]
    }
   ],
   "source": [
    "%pylab inline\n",
    "import tensorflow as tf\n",
    "import numpy as np\n",
    "import gym\n",
    "from tqdm import tqdm, trange\n",
    "from tensorflow.keras.models import Model\n",
    "from tensorflow.keras.optimizers import Adam\n",
    "from tensorflow.keras.layers import *\n",
    "np.set_printoptions(suppress=True)\n",
    "import os\n",
    "os.environ['CUDA_VISIBLE_DEVICES'] = ''"
   ]
  },
  {
   "cell_type": "code",
   "execution_count": 2,
   "metadata": {},
   "outputs": [
    {
     "data": {
      "text/plain": [
       "(Box(4,), Discrete(2))"
      ]
     },
     "execution_count": 2,
     "metadata": {},
     "output_type": "execute_result"
    }
   ],
   "source": [
    "# Here we create the environment we are acting in\n",
    "env = gym.make(\"CartPole-v0\")\n",
    "env.observation_space, env.action_space"
   ]
  },
  {
   "cell_type": "code",
   "execution_count": 3,
   "metadata": {},
   "outputs": [],
   "source": [
    "# Here we create the 3 functions that make up MuZero\n",
    "\n",
    "S_DIM = 4\n",
    "\n",
    "# h: representation function\n",
    "# s_0 = h(o_1...o_t)\n",
    "x = o_0 = Input(env.observation_space.shape)\n",
    "x = Dense(64)(x)\n",
    "x = Activation('elu')(x)\n",
    "s_0 = Dense(S_DIM, name='s_0')(x)\n",
    "h = Model(o_0, s_0, name=\"h\")\n",
    "def ht(o_0):\n",
    "  return h.predict(np.array(o_0)[None])[0]\n",
    "\n",
    "# g: dynamics function (recurrent in state?) old_state+action -> state+reward\n",
    "# r_k, s_k = g(s_k-1, a_k)\n",
    "s_km1 = Input(S_DIM)\n",
    "a_k = Input(env.action_space.n)\n",
    "x = Concatenate()([s_km1, a_k])\n",
    "x = Dense(64)(x)\n",
    "x = Activation('elu')(x)\n",
    "x = Dense(64)(x)\n",
    "x = Activation('elu')(x)\n",
    "s_k = Dense(S_DIM, name='s_k')(x)\n",
    "r_k = Dense(1, name='r_k')(x)\n",
    "g = Model([s_km1, a_k], [r_k, s_k], name=\"g\")\n",
    "g.compile('adam', 'mse')\n",
    "def gt(s_km1, a_k):\n",
    "  r_k, s_k = g.predict([s_km1[None], a_k[None]])\n",
    "  return r_k[0], s_k[0]\n",
    "\n",
    "# f: prediction function -- state -> policy+value\n",
    "# p_k, v_k = f(s_k)\n",
    "x = s_k = Input(S_DIM)\n",
    "x = Dense(32)(x)\n",
    "x = Activation('elu')(x)\n",
    "p_k = Dense(env.action_space.n)(x)\n",
    "p_k = Activation('softmax', name='p_k')(p_k)\n",
    "v_k = Dense(1, name='v_k')(x)\n",
    "f = Model(s_k, [p_k, v_k], name=\"f\")\n",
    "f.compile('adam', 'mse')\n",
    "def ft(s_k):\n",
    "  p_k, v_k = f.predict(s_k[None])\n",
    "  return p_k[0], v_k[0]"
   ]
  },
  {
   "cell_type": "code",
   "execution_count": 4,
   "metadata": {},
   "outputs": [
    {
     "name": "stdout",
     "output_type": "stream",
     "text": [
      "Model: \"model\"\n",
      "__________________________________________________________________________________________________\n",
      "Layer (type)                    Output Shape         Param #     Connected to                     \n",
      "==================================================================================================\n",
      "o_0 (InputLayer)                [(None, 4)]          0                                            \n",
      "__________________________________________________________________________________________________\n",
      "h (Model)                       (None, 4)            580         o_0[0][0]                        \n",
      "__________________________________________________________________________________________________\n",
      "a_0 (InputLayer)                [(None, 2)]          0                                            \n",
      "__________________________________________________________________________________________________\n",
      "g (Model)                       [(None, 1), (None, 4 4933        h[1][0]                          \n",
      "                                                                 a_0[0][0]                        \n",
      "                                                                 g[1][1]                          \n",
      "                                                                 a_1[0][0]                        \n",
      "                                                                 g[2][1]                          \n",
      "                                                                 a_2[0][0]                        \n",
      "                                                                 g[3][1]                          \n",
      "                                                                 a_3[0][0]                        \n",
      "                                                                 g[4][1]                          \n",
      "                                                                 a_4[0][0]                        \n",
      "__________________________________________________________________________________________________\n",
      "a_1 (InputLayer)                [(None, 2)]          0                                            \n",
      "__________________________________________________________________________________________________\n",
      "a_2 (InputLayer)                [(None, 2)]          0                                            \n",
      "__________________________________________________________________________________________________\n",
      "a_3 (InputLayer)                [(None, 2)]          0                                            \n",
      "__________________________________________________________________________________________________\n",
      "a_4 (InputLayer)                [(None, 2)]          0                                            \n",
      "__________________________________________________________________________________________________\n",
      "f (Model)                       [(None, 2), (None, 1 259         h[1][0]                          \n",
      "                                                                 g[1][1]                          \n",
      "                                                                 g[2][1]                          \n",
      "                                                                 g[3][1]                          \n",
      "                                                                 g[4][1]                          \n",
      "                                                                 g[5][1]                          \n",
      "==================================================================================================\n",
      "Total params: 5,772\n",
      "Trainable params: 5,772\n",
      "Non-trainable params: 0\n",
      "__________________________________________________________________________________________________\n"
     ]
    }
   ],
   "source": [
    "# Here we create the MuZero function\n",
    "\n",
    "# it's using the dynamics function for rollout search\n",
    "# K is the number of rollout steps\n",
    "K = 5\n",
    "\n",
    "# represent\n",
    "o_0 = Input(env.observation_space.shape, name=\"o_0\")\n",
    "s_km1 = h(o_0)\n",
    "\n",
    "# rollout with dynamics\n",
    "# p_k, v_k, r_k = mu(o_0, a_1_k)\n",
    "a_all, mu_all = [], []\n",
    "\n",
    "# run f on the first state\n",
    "p_km1, v_km1 = f([s_km1])\n",
    "mu_all += [p_km1, v_km1]\n",
    "\n",
    "for k in range(K):\n",
    "  a_k = Input(env.action_space.n, name=\"a_%d\" % k)\n",
    "  r_k, s_k  = g([s_km1, a_k])\n",
    "\n",
    "  # predict\n",
    "  p_k, v_k = f([s_k])\n",
    "\n",
    "  # store\n",
    "  a_all.append(a_k)\n",
    "  mu_all += [r_k, p_k, v_k]\n",
    "  s_km1 = s_k\n",
    "\n",
    "# put in the first observation and actions\n",
    "#   need policy from search\n",
    "#   need values from sum of rewards + last state value (real state?)\n",
    "#   need rewards\n",
    "#a_all = Concatenate()(a_all)\n",
    "mu = Model([o_0, a_all], mu_all)\n",
    "mu.compile('adam', 'mse')\n",
    "mu.summary()"
   ]
  },
  {
   "cell_type": "code",
   "execution_count": 5,
   "metadata": {},
   "outputs": [
    {
     "data": {
      "text/plain": [
       "(array([0.51951649, 0.48048351]),\n",
       " (array([0.5006866 , 0.49931344], dtype=float32),\n",
       "  array([0.00405711], dtype=float32)))"
      ]
     },
     "execution_count": 5,
     "metadata": {},
     "output_type": "execute_result"
    }
   ],
   "source": [
    "def to_one_hot(x,n):\n",
    "  ret = np.zeros([n])\n",
    "  ret[x] = 1.0\n",
    "  return ret\n",
    "\n",
    "# enumerate the whole action space\n",
    "import itertools\n",
    "aopts = list(itertools.product([0,1], repeat=K))\n",
    "aoptss = np.array([[to_one_hot(x, 2) for x in aa] for aa in aopts])\n",
    "aoptss = aoptss.swapaxes(0,1)\n",
    "aoptss = [aoptss[x] for x in range(5)]\n",
    "\n",
    "# TODO: this is naive search, replace with MCTS\n",
    "def search(o_0):\n",
    "  # concatenate the current state with every possible action\n",
    "  o_0s = np.repeat(np.array(o_0)[None], len(aopts), axis=0)\n",
    "  ret = mu.predict([o_0s]+aoptss)\n",
    "  v_s = ret[-1]\n",
    "  \n",
    "  # group the value with the action rollout that caused it\n",
    "  v = [(v_s[i][0], aopts[i]) for i in range(len(v_s))]\n",
    "  \n",
    "  av = [0,0]\n",
    "  for vk, ak in v:\n",
    "    av[ak[0]] += vk\n",
    "    \n",
    "  policy = np.exp(av)/sum(np.exp(av))\n",
    "  return policy\n",
    "  \n",
    "  #return sorted(v, reverse=True)\n",
    "\n",
    "env.reset()\n",
    "search(env.state), ft(ht(env.state))"
   ]
  },
  {
   "cell_type": "code",
   "execution_count": 6,
   "metadata": {},
   "outputs": [
    {
     "name": "stderr",
     "output_type": "stream",
     "text": [
      "/home/batman/.pyenv/versions/3.7.3/lib/python3.7/site-packages/gym/logger.py:30: UserWarning: \u001b[33mWARN: You are calling 'step()' even though this environment has already returned done = True. You should always call 'reset()' once you receive 'done = True' -- any further steps are undefined behavior.\u001b[0m\n",
      "  warnings.warn(colorize('%s: %s'%('WARN', msg % args), 'yellow'))\n"
     ]
    },
    {
     "name": "stdout",
     "output_type": "stream",
     "text": [
      "1/1 [==============================] - 0s 4ms/step - loss: 42.3581 - f_loss: 4.3261e-04 - f_1_loss: 18.3014 - g_loss: 0.9298 - f_2_loss: 1.1655e-04 - f_3_loss: 10.2548 - g_1_loss: 0.8825 - f_4_loss: 2.7279e-05 - f_5_loss: 6.2383 - g_2_loss: 0.9005 - f_6_loss: 2.8588e-05 - f_7_loss: 2.5451 - g_3_loss: 0.8958 - f_8_loss: 2.6716e-05 - f_9_loss: 0.6057 - g_4_loss: 0.7578 - f_10_loss: 1.7436e-05 - f_11_loss: 0.0458\n",
      "[42.358123779296875]\n",
      "1/1 [==============================] - 0s 4ms/step - loss: 43.6802 - f_loss: 1.8161e-04 - f_1_loss: 19.6184 - g_loss: 0.8613 - f_2_loss: 1.8679e-04 - f_3_loss: 10.7731 - g_1_loss: 0.6104 - f_4_loss: 2.2183e-05 - f_5_loss: 6.3528 - g_2_loss: 0.7058 - f_6_loss: 6.8066e-05 - f_7_loss: 2.6708 - g_3_loss: 0.7044 - f_8_loss: 6.0777e-05 - f_9_loss: 0.5423 - g_4_loss: 0.7669 - f_10_loss: 6.8807e-05 - f_11_loss: 0.0734\n",
      "[43.68019104003906]\n",
      "1/1 [==============================] - 0s 6ms/step - loss: 41.9721 - f_loss: 2.2009e-04 - f_1_loss: 19.1448 - g_loss: 0.7448 - f_2_loss: 5.6056e-04 - f_3_loss: 10.3346 - g_1_loss: 0.5582 - f_4_loss: 1.2623e-04 - f_5_loss: 6.3002 - g_2_loss: 0.6084 - f_6_loss: 2.4391e-04 - f_7_loss: 2.5260 - g_3_loss: 0.5922 - f_8_loss: 2.0588e-04 - f_9_loss: 0.4892 - g_4_loss: 0.5642 - f_10_loss: 2.2347e-04 - f_11_loss: 0.1079\n",
      "[41.97210693359375]\n",
      "1/1 [==============================] - 0s 3ms/step - loss: 38.1147 - f_loss: 1.0018e-04 - f_1_loss: 18.4513 - g_loss: 0.6750 - f_2_loss: 7.8720e-04 - f_3_loss: 9.3089 - g_1_loss: 0.4389 - f_4_loss: 2.8932e-04 - f_5_loss: 5.3826 - g_2_loss: 0.4836 - f_6_loss: 4.1117e-04 - f_7_loss: 2.0540 - g_3_loss: 0.4215 - f_8_loss: 3.9039e-04 - f_9_loss: 0.3653 - g_4_loss: 0.3861 - f_10_loss: 3.7488e-04 - f_11_loss: 0.1452\n",
      "[38.11468505859375]\n"
     ]
    },
    {
     "ename": "KeyboardInterrupt",
     "evalue": "",
     "output_type": "error",
     "traceback": [
      "\u001b[0;31m---------------------------------------------------------------------------\u001b[0m",
      "\u001b[0;31mKeyboardInterrupt\u001b[0m                         Traceback (most recent call last)",
      "\u001b[0;32m<ipython-input-6-9a333a5fb732>\u001b[0m in \u001b[0;36m<module>\u001b[0;34m\u001b[0m\n\u001b[1;32m     23\u001b[0m     \u001b[0;32mfor\u001b[0m \u001b[0m_\u001b[0m \u001b[0;32min\u001b[0m \u001b[0mrange\u001b[0m\u001b[0;34m(\u001b[0m\u001b[0mK\u001b[0m\u001b[0;34m)\u001b[0m\u001b[0;34m:\u001b[0m\u001b[0;34m\u001b[0m\u001b[0;34m\u001b[0m\u001b[0m\n\u001b[1;32m     24\u001b[0m       \u001b[0m_\u001b[0m\u001b[0;34m,\u001b[0m \u001b[0mv_0\u001b[0m \u001b[0;34m=\u001b[0m \u001b[0mft\u001b[0m\u001b[0;34m(\u001b[0m\u001b[0mht\u001b[0m\u001b[0;34m(\u001b[0m\u001b[0menv\u001b[0m\u001b[0;34m.\u001b[0m\u001b[0mstate\u001b[0m\u001b[0;34m)\u001b[0m\u001b[0;34m)\u001b[0m\u001b[0;34m\u001b[0m\u001b[0;34m\u001b[0m\u001b[0m\n\u001b[0;32m---> 25\u001b[0;31m       \u001b[0mp_0\u001b[0m \u001b[0;34m=\u001b[0m \u001b[0msearch\u001b[0m\u001b[0;34m(\u001b[0m\u001b[0menv\u001b[0m\u001b[0;34m.\u001b[0m\u001b[0mstate\u001b[0m\u001b[0;34m)\u001b[0m\u001b[0;34m\u001b[0m\u001b[0;34m\u001b[0m\u001b[0m\n\u001b[0m\u001b[1;32m     26\u001b[0m       \u001b[0ma_1\u001b[0m \u001b[0;34m=\u001b[0m \u001b[0mnp\u001b[0m\u001b[0;34m.\u001b[0m\u001b[0mrandom\u001b[0m\u001b[0;34m.\u001b[0m\u001b[0mchoice\u001b[0m\u001b[0;34m(\u001b[0m\u001b[0;34m[\u001b[0m\u001b[0;36m0\u001b[0m\u001b[0;34m,\u001b[0m\u001b[0;36m1\u001b[0m\u001b[0;34m]\u001b[0m\u001b[0;34m,\u001b[0m \u001b[0mp\u001b[0m\u001b[0;34m=\u001b[0m\u001b[0mp_0\u001b[0m\u001b[0;34m)\u001b[0m\u001b[0;34m\u001b[0m\u001b[0;34m\u001b[0m\u001b[0m\n\u001b[1;32m     27\u001b[0m       \u001b[0m_\u001b[0m\u001b[0;34m,\u001b[0m \u001b[0mr_1\u001b[0m\u001b[0;34m,\u001b[0m \u001b[0mdone\u001b[0m\u001b[0;34m,\u001b[0m \u001b[0m_\u001b[0m \u001b[0;34m=\u001b[0m \u001b[0menv\u001b[0m\u001b[0;34m.\u001b[0m\u001b[0mstep\u001b[0m\u001b[0;34m(\u001b[0m\u001b[0ma_1\u001b[0m\u001b[0;34m)\u001b[0m\u001b[0;34m\u001b[0m\u001b[0;34m\u001b[0m\u001b[0m\n",
      "\u001b[0;32m<ipython-input-5-52521c7f9a5c>\u001b[0m in \u001b[0;36msearch\u001b[0;34m(o_0)\u001b[0m\n\u001b[1;32m     15\u001b[0m   \u001b[0;31m# concatenate the current state with every possible action\u001b[0m\u001b[0;34m\u001b[0m\u001b[0;34m\u001b[0m\u001b[0;34m\u001b[0m\u001b[0m\n\u001b[1;32m     16\u001b[0m   \u001b[0mo_0s\u001b[0m \u001b[0;34m=\u001b[0m \u001b[0mnp\u001b[0m\u001b[0;34m.\u001b[0m\u001b[0mrepeat\u001b[0m\u001b[0;34m(\u001b[0m\u001b[0mnp\u001b[0m\u001b[0;34m.\u001b[0m\u001b[0marray\u001b[0m\u001b[0;34m(\u001b[0m\u001b[0mo_0\u001b[0m\u001b[0;34m)\u001b[0m\u001b[0;34m[\u001b[0m\u001b[0;32mNone\u001b[0m\u001b[0;34m]\u001b[0m\u001b[0;34m,\u001b[0m \u001b[0mlen\u001b[0m\u001b[0;34m(\u001b[0m\u001b[0maopts\u001b[0m\u001b[0;34m)\u001b[0m\u001b[0;34m,\u001b[0m \u001b[0maxis\u001b[0m\u001b[0;34m=\u001b[0m\u001b[0;36m0\u001b[0m\u001b[0;34m)\u001b[0m\u001b[0;34m\u001b[0m\u001b[0;34m\u001b[0m\u001b[0m\n\u001b[0;32m---> 17\u001b[0;31m   \u001b[0mret\u001b[0m \u001b[0;34m=\u001b[0m \u001b[0mmu\u001b[0m\u001b[0;34m.\u001b[0m\u001b[0mpredict\u001b[0m\u001b[0;34m(\u001b[0m\u001b[0;34m[\u001b[0m\u001b[0mo_0s\u001b[0m\u001b[0;34m]\u001b[0m\u001b[0;34m+\u001b[0m\u001b[0maoptss\u001b[0m\u001b[0;34m)\u001b[0m\u001b[0;34m\u001b[0m\u001b[0;34m\u001b[0m\u001b[0m\n\u001b[0m\u001b[1;32m     18\u001b[0m   \u001b[0mv_s\u001b[0m \u001b[0;34m=\u001b[0m \u001b[0mret\u001b[0m\u001b[0;34m[\u001b[0m\u001b[0;34m-\u001b[0m\u001b[0;36m1\u001b[0m\u001b[0;34m]\u001b[0m\u001b[0;34m\u001b[0m\u001b[0;34m\u001b[0m\u001b[0m\n\u001b[1;32m     19\u001b[0m \u001b[0;34m\u001b[0m\u001b[0m\n",
      "\u001b[0;32m~/.pyenv/versions/3.7.3/lib/python3.7/site-packages/tensorflow/python/keras/engine/training.py\u001b[0m in \u001b[0;36m_method_wrapper\u001b[0;34m(self, *args, **kwargs)\u001b[0m\n\u001b[1;32m     86\u001b[0m       raise ValueError('{} is not supported in multi-worker mode.'.format(\n\u001b[1;32m     87\u001b[0m           method.__name__))\n\u001b[0;32m---> 88\u001b[0;31m     \u001b[0;32mreturn\u001b[0m \u001b[0mmethod\u001b[0m\u001b[0;34m(\u001b[0m\u001b[0mself\u001b[0m\u001b[0;34m,\u001b[0m \u001b[0;34m*\u001b[0m\u001b[0margs\u001b[0m\u001b[0;34m,\u001b[0m \u001b[0;34m**\u001b[0m\u001b[0mkwargs\u001b[0m\u001b[0;34m)\u001b[0m\u001b[0;34m\u001b[0m\u001b[0;34m\u001b[0m\u001b[0m\n\u001b[0m\u001b[1;32m     89\u001b[0m \u001b[0;34m\u001b[0m\u001b[0m\n\u001b[1;32m     90\u001b[0m   return tf_decorator.make_decorator(\n",
      "\u001b[0;32m~/.pyenv/versions/3.7.3/lib/python3.7/site-packages/tensorflow/python/keras/engine/training.py\u001b[0m in \u001b[0;36mpredict\u001b[0;34m(self, x, batch_size, verbose, steps, callbacks, max_queue_size, workers, use_multiprocessing)\u001b[0m\n\u001b[1;32m   1250\u001b[0m           \u001b[0mworkers\u001b[0m\u001b[0;34m=\u001b[0m\u001b[0mworkers\u001b[0m\u001b[0;34m,\u001b[0m\u001b[0;34m\u001b[0m\u001b[0;34m\u001b[0m\u001b[0m\n\u001b[1;32m   1251\u001b[0m           \u001b[0muse_multiprocessing\u001b[0m\u001b[0;34m=\u001b[0m\u001b[0muse_multiprocessing\u001b[0m\u001b[0;34m,\u001b[0m\u001b[0;34m\u001b[0m\u001b[0;34m\u001b[0m\u001b[0m\n\u001b[0;32m-> 1252\u001b[0;31m           model=self)\n\u001b[0m\u001b[1;32m   1253\u001b[0m \u001b[0;34m\u001b[0m\u001b[0m\n\u001b[1;32m   1254\u001b[0m       \u001b[0;31m# Container that configures and calls `tf.keras.Callback`s.\u001b[0m\u001b[0;34m\u001b[0m\u001b[0;34m\u001b[0m\u001b[0;34m\u001b[0m\u001b[0m\n",
      "\u001b[0;32m~/.pyenv/versions/3.7.3/lib/python3.7/site-packages/tensorflow/python/keras/engine/data_adapter.py\u001b[0m in \u001b[0;36m__init__\u001b[0;34m(self, x, y, sample_weight, batch_size, steps_per_epoch, initial_epoch, epochs, shuffle, class_weight, max_queue_size, workers, use_multiprocessing, model)\u001b[0m\n\u001b[1;32m   1110\u001b[0m         \u001b[0muse_multiprocessing\u001b[0m\u001b[0;34m=\u001b[0m\u001b[0muse_multiprocessing\u001b[0m\u001b[0;34m,\u001b[0m\u001b[0;34m\u001b[0m\u001b[0;34m\u001b[0m\u001b[0m\n\u001b[1;32m   1111\u001b[0m         \u001b[0mdistribution_strategy\u001b[0m\u001b[0;34m=\u001b[0m\u001b[0mds_context\u001b[0m\u001b[0;34m.\u001b[0m\u001b[0mget_strategy\u001b[0m\u001b[0;34m(\u001b[0m\u001b[0;34m)\u001b[0m\u001b[0;34m,\u001b[0m\u001b[0;34m\u001b[0m\u001b[0;34m\u001b[0m\u001b[0m\n\u001b[0;32m-> 1112\u001b[0;31m         model=model)\n\u001b[0m\u001b[1;32m   1113\u001b[0m \u001b[0;34m\u001b[0m\u001b[0m\n\u001b[1;32m   1114\u001b[0m     \u001b[0mstrategy\u001b[0m \u001b[0;34m=\u001b[0m \u001b[0mds_context\u001b[0m\u001b[0;34m.\u001b[0m\u001b[0mget_strategy\u001b[0m\u001b[0;34m(\u001b[0m\u001b[0;34m)\u001b[0m\u001b[0;34m\u001b[0m\u001b[0;34m\u001b[0m\u001b[0m\n",
      "\u001b[0;32m~/.pyenv/versions/3.7.3/lib/python3.7/site-packages/tensorflow/python/keras/engine/data_adapter.py\u001b[0m in \u001b[0;36m__init__\u001b[0;34m(self, x, y, sample_weights, sample_weight_modes, batch_size, epochs, steps, shuffle, **kwargs)\u001b[0m\n\u001b[1;32m    309\u001b[0m     \u001b[0;31m# 5. disabled static optimizations\u001b[0m\u001b[0;34m\u001b[0m\u001b[0;34m\u001b[0m\u001b[0;34m\u001b[0m\u001b[0m\n\u001b[1;32m    310\u001b[0m \u001b[0;34m\u001b[0m\u001b[0m\n\u001b[0;32m--> 311\u001b[0;31m     \u001b[0mindices_dataset\u001b[0m \u001b[0;34m=\u001b[0m \u001b[0mdataset_ops\u001b[0m\u001b[0;34m.\u001b[0m\u001b[0mDatasetV2\u001b[0m\u001b[0;34m.\u001b[0m\u001b[0mrange\u001b[0m\u001b[0;34m(\u001b[0m\u001b[0;36m1\u001b[0m\u001b[0;34m)\u001b[0m\u001b[0;34m\u001b[0m\u001b[0;34m\u001b[0m\u001b[0m\n\u001b[0m\u001b[1;32m    312\u001b[0m     \u001b[0;32mif\u001b[0m \u001b[0mshuffle\u001b[0m \u001b[0;34m!=\u001b[0m \u001b[0;34m\"batch\"\u001b[0m\u001b[0;34m:\u001b[0m\u001b[0;34m\u001b[0m\u001b[0;34m\u001b[0m\u001b[0m\n\u001b[1;32m    313\u001b[0m       \u001b[0mindices_dataset\u001b[0m \u001b[0;34m=\u001b[0m \u001b[0mindices_dataset\u001b[0m\u001b[0;34m.\u001b[0m\u001b[0mrepeat\u001b[0m\u001b[0;34m(\u001b[0m\u001b[0mepochs\u001b[0m\u001b[0;34m)\u001b[0m\u001b[0;34m\u001b[0m\u001b[0;34m\u001b[0m\u001b[0m\n",
      "\u001b[0;32m~/.pyenv/versions/3.7.3/lib/python3.7/site-packages/tensorflow/python/data/ops/dataset_ops.py\u001b[0m in \u001b[0;36mrange\u001b[0;34m(*args, **kwargs)\u001b[0m\n\u001b[1;32m    911\u001b[0m       \u001b[0mValueError\u001b[0m\u001b[0;34m:\u001b[0m \u001b[0;32mif\u001b[0m \u001b[0mlen\u001b[0m\u001b[0;34m(\u001b[0m\u001b[0margs\u001b[0m\u001b[0;34m)\u001b[0m \u001b[0;34m==\u001b[0m \u001b[0;36m0.\u001b[0m\u001b[0;34m\u001b[0m\u001b[0;34m\u001b[0m\u001b[0m\n\u001b[1;32m    912\u001b[0m     \"\"\"\n\u001b[0;32m--> 913\u001b[0;31m     \u001b[0;32mreturn\u001b[0m \u001b[0mRangeDataset\u001b[0m\u001b[0;34m(\u001b[0m\u001b[0;34m*\u001b[0m\u001b[0margs\u001b[0m\u001b[0;34m,\u001b[0m \u001b[0;34m**\u001b[0m\u001b[0mkwargs\u001b[0m\u001b[0;34m)\u001b[0m\u001b[0;34m\u001b[0m\u001b[0;34m\u001b[0m\u001b[0m\n\u001b[0m\u001b[1;32m    914\u001b[0m \u001b[0;34m\u001b[0m\u001b[0m\n\u001b[1;32m    915\u001b[0m   \u001b[0;34m@\u001b[0m\u001b[0mstaticmethod\u001b[0m\u001b[0;34m\u001b[0m\u001b[0;34m\u001b[0m\u001b[0m\n",
      "\u001b[0;32m~/.pyenv/versions/3.7.3/lib/python3.7/site-packages/tensorflow/python/data/ops/dataset_ops.py\u001b[0m in \u001b[0;36m__init__\u001b[0;34m(self, *args, **kwargs)\u001b[0m\n\u001b[1;32m   3427\u001b[0m         \u001b[0mstop\u001b[0m\u001b[0;34m=\u001b[0m\u001b[0mself\u001b[0m\u001b[0;34m.\u001b[0m\u001b[0m_stop\u001b[0m\u001b[0;34m,\u001b[0m\u001b[0;34m\u001b[0m\u001b[0;34m\u001b[0m\u001b[0m\n\u001b[1;32m   3428\u001b[0m         \u001b[0mstep\u001b[0m\u001b[0;34m=\u001b[0m\u001b[0mself\u001b[0m\u001b[0;34m.\u001b[0m\u001b[0m_step\u001b[0m\u001b[0;34m,\u001b[0m\u001b[0;34m\u001b[0m\u001b[0;34m\u001b[0m\u001b[0m\n\u001b[0;32m-> 3429\u001b[0;31m         **self._flat_structure)\n\u001b[0m\u001b[1;32m   3430\u001b[0m     \u001b[0msuper\u001b[0m\u001b[0;34m(\u001b[0m\u001b[0mRangeDataset\u001b[0m\u001b[0;34m,\u001b[0m \u001b[0mself\u001b[0m\u001b[0;34m)\u001b[0m\u001b[0;34m.\u001b[0m\u001b[0m__init__\u001b[0m\u001b[0;34m(\u001b[0m\u001b[0mvariant_tensor\u001b[0m\u001b[0;34m)\u001b[0m\u001b[0;34m\u001b[0m\u001b[0;34m\u001b[0m\u001b[0m\n\u001b[1;32m   3431\u001b[0m \u001b[0;34m\u001b[0m\u001b[0m\n",
      "\u001b[0;32m~/.pyenv/versions/3.7.3/lib/python3.7/site-packages/tensorflow/python/ops/gen_dataset_ops.py\u001b[0m in \u001b[0;36mrange_dataset\u001b[0;34m(start, stop, step, output_types, output_shapes, name)\u001b[0m\n\u001b[1;32m   4985\u001b[0m         \u001b[0m_ctx\u001b[0m\u001b[0;34m.\u001b[0m\u001b[0m_context_handle\u001b[0m\u001b[0;34m,\u001b[0m \u001b[0mtld\u001b[0m\u001b[0;34m.\u001b[0m\u001b[0mdevice_name\u001b[0m\u001b[0;34m,\u001b[0m \u001b[0;34m\"RangeDataset\"\u001b[0m\u001b[0;34m,\u001b[0m \u001b[0mname\u001b[0m\u001b[0;34m,\u001b[0m\u001b[0;34m\u001b[0m\u001b[0;34m\u001b[0m\u001b[0m\n\u001b[1;32m   4986\u001b[0m         \u001b[0mtld\u001b[0m\u001b[0;34m.\u001b[0m\u001b[0mop_callbacks\u001b[0m\u001b[0;34m,\u001b[0m \u001b[0mstart\u001b[0m\u001b[0;34m,\u001b[0m \u001b[0mstop\u001b[0m\u001b[0;34m,\u001b[0m \u001b[0mstep\u001b[0m\u001b[0;34m,\u001b[0m \u001b[0;34m\"output_types\"\u001b[0m\u001b[0;34m,\u001b[0m \u001b[0moutput_types\u001b[0m\u001b[0;34m,\u001b[0m\u001b[0;34m\u001b[0m\u001b[0;34m\u001b[0m\u001b[0m\n\u001b[0;32m-> 4987\u001b[0;31m         \"output_shapes\", output_shapes)\n\u001b[0m\u001b[1;32m   4988\u001b[0m       \u001b[0;32mreturn\u001b[0m \u001b[0m_result\u001b[0m\u001b[0;34m\u001b[0m\u001b[0;34m\u001b[0m\u001b[0m\n\u001b[1;32m   4989\u001b[0m     \u001b[0;32mexcept\u001b[0m \u001b[0m_core\u001b[0m\u001b[0;34m.\u001b[0m\u001b[0m_FallbackException\u001b[0m\u001b[0;34m:\u001b[0m\u001b[0;34m\u001b[0m\u001b[0;34m\u001b[0m\u001b[0m\n",
      "\u001b[0;31mKeyboardInterrupt\u001b[0m: "
     ]
    }
   ],
   "source": [
    "gamma = 0.95\n",
    "\n",
    "def bstack(bb):\n",
    "  ret = [[x] for x in bb[0]]\n",
    "  for i in range(1, len(bb)):\n",
    "    for j in range(len(bb[i])):\n",
    "      ret[j].append(bb[i][j])\n",
    "  return [np.array(x) for x in ret]\n",
    "\n",
    "env.reset()\n",
    "sc = 0\n",
    "scs = []\n",
    "vs = []\n",
    "rs = []\n",
    "# \"epochs\"\n",
    "for _ in range(20):\n",
    "  # accumulate a batch\n",
    "  X,Y = [],[]\n",
    "  for _ in range(16):\n",
    "    x = [np.copy(env.state)]\n",
    "    # rollout of 5 steps\n",
    "    y = []\n",
    "    for _ in range(K):\n",
    "      _, v_0 = ft(ht(env.state))\n",
    "      p_0 = search(env.state)\n",
    "      a_1 = np.random.choice([0,1], p=p_0)\n",
    "      _, r_1, done, _ = env.step(a_1)\n",
    "      sc += 1\n",
    "      \n",
    "      y += [p_0, None, r_1]\n",
    "      \n",
    "      # append the real actions taken\n",
    "      x.append(to_one_hot(a_1, 2))\n",
    "    \n",
    "    _, v_k = ft(ht(env.state))\n",
    "    p_k = search(env.state)\n",
    "    y += [p_k, v_k]\n",
    "    \n",
    "    # fix values\n",
    "    for i in range(K):\n",
    "      y[-4 - i*3] = y[-3 - i*3] + gamma * y[-1 - i*3]\n",
    "      \n",
    "    vs += y[1::3][0:5]\n",
    "    rs += y[2::3]\n",
    "        \n",
    "    X.append(x)\n",
    "    Y.append(y)\n",
    "    if done:\n",
    "      env.reset()\n",
    "      scs.append(sc)\n",
    "      sc = 0\n",
    "      \n",
    "  ll = mu.fit(bstack(X), bstack(Y), verbose=1)\n",
    "  loss = ll.history['loss']\n",
    "  print(loss)\n",
    "plot(vs)\n",
    "plot(rs)"
   ]
  },
  {
   "cell_type": "code",
   "execution_count": 9,
   "metadata": {},
   "outputs": [
    {
     "name": "stdout",
     "output_type": "stream",
     "text": [
      "[0.51052331 0.48947669] [0.11920644] 0\n",
      "[0.51062385 0.48937615] [0.23886201] 1\n",
      "[0.51053848 0.48946152] [0.12409505] 0\n",
      "[0.51063529 0.48936471] [0.2439914] 1\n",
      "[0.51055707 0.48944293] [0.13041276] 0\n",
      "[0.51064786 0.48935214] [0.25046456] 1\n",
      "[0.51058009 0.48941991] [0.13830557] 1\n",
      "[0.51037237 0.48962763] [0.02507184] 1\n",
      "[0.51000986 0.48999014] [-0.0803359] 0\n",
      "[0.51044351 0.48955649] [0.04015018] 0\n",
      "[0.51068066 0.48931934] [0.1639403] 1\n",
      "[0.51047768 0.48952232] [0.04766529] 1\n",
      "[0.51009116 0.48990884] [-0.06143287] 0\n",
      "[0.51052275 0.48947725] [0.0574681] 0\n",
      "[0.51074462 0.48925538] [0.17879365] 0\n",
      "[0.51078319 0.48921681] [0.29218638] 0\n",
      "[0.51065427 0.48934573] [0.38931048] 1\n",
      "[0.51074408 0.48925592] [0.2893029] 0\n",
      "[0.51061515 0.48938485] [0.3878355] 1\n",
      "[0.5107167 0.4892833] [0.29189497] 0\n",
      "[0.51058155 0.48941845] [0.39080775] 0\n",
      "[0.51039156 0.48960844] [0.46772557] 0\n",
      "[0.51022316 0.48977684] [0.5239818] 1\n",
      "[0.51032265 0.48967735] [0.46657318] 0\n",
      "[0.51016626 0.48983374] [0.52139705] 1\n",
      "[0.51026057 0.48973943] [0.47126895] 0\n",
      "[0.510109 0.489891] [0.5226264] 0\n",
      "DONE 26\n"
     ]
    }
   ],
   "source": [
    "# can act?\n",
    "env.reset()\n",
    "for sn in range(100):\n",
    "  p_0 = search(env.state)\n",
    "  _, v_0 = ft(ht(env.state))\n",
    "  a_1 = np.random.choice([0,1], p=p_0)\n",
    "  print(p_0, v_0, a_1)\n",
    "  env.render()\n",
    "  _,r,done,_ = env.step(a_1)\n",
    "  if done:\n",
    "    print(\"DONE\", sn)\n",
    "    break"
   ]
  },
  {
   "cell_type": "code",
   "execution_count": null,
   "metadata": {},
   "outputs": [],
   "source": []
  }
 ],
 "metadata": {
  "kernelspec": {
   "display_name": "Python 3",
   "language": "python",
   "name": "python3"
  },
  "language_info": {
   "codemirror_mode": {
    "name": "ipython",
    "version": 3
   },
   "file_extension": ".py",
   "mimetype": "text/x-python",
   "name": "python",
   "nbconvert_exporter": "python",
   "pygments_lexer": "ipython3",
   "version": "3.7.3"
  }
 },
 "nbformat": 4,
 "nbformat_minor": 2
}
