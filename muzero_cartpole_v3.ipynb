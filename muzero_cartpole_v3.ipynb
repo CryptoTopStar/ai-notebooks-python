{
 "cells": [
  {
   "cell_type": "code",
   "execution_count": 103,
   "metadata": {},
   "outputs": [
    {
     "name": "stdout",
     "output_type": "stream",
     "text": [
      "The autoreload extension is already loaded. To reload it, use:\n",
      "  %reload_ext autoreload\n",
      "Populating the interactive namespace from numpy and matplotlib\n"
     ]
    }
   ],
   "source": [
    "%load_ext autoreload\n",
    "%autoreload 2\n",
    "%pylab inline\n",
    "import tensorflow as tf\n",
    "import numpy as np\n",
    "import gym\n",
    "from tqdm import tqdm, trange\n",
    "import os,sys\n",
    "sys.path.append(os.getcwd())"
   ]
  },
  {
   "cell_type": "code",
   "execution_count": 104,
   "metadata": {},
   "outputs": [],
   "source": [
    "from muzero.model import MuModel"
   ]
  },
  {
   "cell_type": "code",
   "execution_count": 105,
   "metadata": {},
   "outputs": [
    {
     "data": {
      "text/plain": [
       "(array([-0.00338204,  0.01748719,  0.01197838, -0.0069502 ]), (4,), 2)"
      ]
     },
     "execution_count": 105,
     "metadata": {},
     "output_type": "execute_result"
    }
   ],
   "source": [
    "env = gym.make(\"CartPole-v0\")\n",
    "m = MuModel(env.observation_space.shape, env.action_space.n)\n",
    "env.reset(), env.observation_space.shape, env.action_space.n"
   ]
  },
  {
   "cell_type": "code",
   "execution_count": 106,
   "metadata": {},
   "outputs": [],
   "source": [
    "from muzero.game import Game, ReplayBuffer\n",
    "replay_buffer = ReplayBuffer(100, 128)"
   ]
  },
  {
   "cell_type": "code",
   "execution_count": 107,
   "metadata": {},
   "outputs": [],
   "source": [
    "from muzero.mcts import get_mcts_policy, ucb_score"
   ]
  },
  {
   "cell_type": "code",
   "execution_count": 119,
   "metadata": {},
   "outputs": [],
   "source": [
    "# init the game\n",
    "game = Game(env)\n",
    "policy, root = get_mcts_policy(m, game.observation)"
   ]
  },
  {
   "cell_type": "code",
   "execution_count": 120,
   "metadata": {},
   "outputs": [
    {
     "data": {
      "text/plain": [
       "(10, 0, 10)"
      ]
     },
     "execution_count": 120,
     "metadata": {},
     "output_type": "execute_result"
    }
   ],
   "source": [
    "root.visit_count, root.children[0].visit_count, root.children[1].visit_count"
   ]
  },
  {
   "cell_type": "code",
   "execution_count": 121,
   "metadata": {},
   "outputs": [
    {
     "data": {
      "text/plain": [
       "(0.08502477, 0.9149752)"
      ]
     },
     "execution_count": 121,
     "metadata": {},
     "output_type": "execute_result"
    }
   ],
   "source": [
    "root.children[0].prior, root.children[1].prior"
   ]
  },
  {
   "cell_type": "code",
   "execution_count": 122,
   "metadata": {},
   "outputs": [
    {
     "name": "stdout",
     "output_type": "stream",
     "text": [
      "7.758757496166529 <muzero.mcts.Node object at 0x15f38ba50> []\n",
      "0 <muzero.mcts.Node object at 0x15ea29350> [0]\n",
      "7.219451503051272 <muzero.mcts.Node object at 0x15f38b950> [1]\n",
      "0 <muzero.mcts.Node object at 0x15f38bc10> [1, 0]\n",
      "6.7120348060490675 <muzero.mcts.Node object at 0x15f38b4d0> [1, 1]\n",
      "0 <muzero.mcts.Node object at 0x15ea33750> [1, 1, 0]\n",
      "6.26463576104633 <muzero.mcts.Node object at 0x15ea33650> [1, 1, 1]\n",
      "0 <muzero.mcts.Node object at 0x15f363d90> [1, 1, 1, 0]\n",
      "5.828935325550759 <muzero.mcts.Node object at 0x15f363b90> [1, 1, 1, 1]\n",
      "0 <muzero.mcts.Node object at 0x15d9ec7d0> [1, 1, 1, 1, 0]\n",
      "5.384684435605667 <muzero.mcts.Node object at 0x15d9ec110> [1, 1, 1, 1, 1]\n",
      "0 <muzero.mcts.Node object at 0x15f363550> [1, 1, 1, 1, 1, 0]\n",
      "4.90784337907046 <muzero.mcts.Node object at 0x15f37f450> [1, 1, 1, 1, 1, 1]\n",
      "0 <muzero.mcts.Node object at 0x15f37fd50> [1, 1, 1, 1, 1, 1, 0]\n",
      "4.406423605181277 <muzero.mcts.Node object at 0x15f37ff90> [1, 1, 1, 1, 1, 1, 1]\n",
      "0 <muzero.mcts.Node object at 0x15f37ffd0> [1, 1, 1, 1, 1, 1, 1, 0]\n",
      "3.897267986734708 <muzero.mcts.Node object at 0x15ea2fd10> [1, 1, 1, 1, 1, 1, 1, 1]\n",
      "0 <muzero.mcts.Node object at 0x15ea2fe90> [1, 1, 1, 1, 1, 1, 1, 1, 0]\n",
      "3.389660197496414 <muzero.mcts.Node object at 0x15e468810> [1, 1, 1, 1, 1, 1, 1, 1, 1]\n",
      "0 <muzero.mcts.Node object at 0x15e468d50> [1, 1, 1, 1, 1, 1, 1, 1, 1, 0]\n",
      "2.890683889389038 <muzero.mcts.Node object at 0x15ea2f850> [1, 1, 1, 1, 1, 1, 1, 1, 1, 1]\n",
      "0 <muzero.mcts.Node object at 0x15ea2ff10> [1, 1, 1, 1, 1, 1, 1, 1, 1, 1, 0]\n",
      "0 <muzero.mcts.Node object at 0x15ea267d0> [1, 1, 1, 1, 1, 1, 1, 1, 1, 1, 1]\n"
     ]
    }
   ],
   "source": [
    "def print_tree(x, hist=[]):\n",
    "  print(x.value(), x, hist)\n",
    "  for i,c in x.children.items():\n",
    "    print_tree(c, hist+[i])\n",
    "print_tree(root)"
   ]
  },
  {
   "cell_type": "code",
   "execution_count": 131,
   "metadata": {},
   "outputs": [],
   "source": [
    "def play_game():\n",
    "  import random\n",
    "  game = Game(env)\n",
    "  while not game.terminal():\n",
    "    #policy, _ = get_mcts_policy(m, game.observation)\n",
    "    policy = search(m, game.observation)\n",
    "    game.act_with_policy(policy)\n",
    "  return game"
   ]
  },
  {
   "cell_type": "code",
   "execution_count": null,
   "metadata": {},
   "outputs": [],
   "source": [
    "from muzero.model import reformat_batch\n",
    "for j in range(50):\n",
    "  game = play_game()\n",
    "  print(game.history)\n",
    "  replay_buffer.save_game(game)\n",
    "  for i in range(10):\n",
    "    m.train_on_batch(replay_buffer.sample_batch(5))\n",
    "  print(len(game.history), m.losses[-1][0])\n",
    "  if len(game.history) == 200:\n",
    "    break"
   ]
  },
  {
   "cell_type": "code",
   "execution_count": 127,
   "metadata": {},
   "outputs": [
    {
     "data": {
      "text/plain": [
       "[<matplotlib.lines.Line2D at 0x15b695250>]"
      ]
     },
     "execution_count": 127,
     "metadata": {},
     "output_type": "execute_result"
    },
    {
     "data": {
      "image/png": "[encoded data removed]",
      "text/plain": [
       "<Figure size 432x288 with 1 Axes>"
      ]
     },
     "metadata": {
      "needs_background": "light"
     },
     "output_type": "display_data"
    }
   ],
   "source": [
    "plot([x[0] for x in m.losses])"
   ]
  },
  {
   "cell_type": "code",
   "execution_count": 128,
   "metadata": {},
   "outputs": [
    {
     "name": "stdout",
     "output_type": "stream",
     "text": [
      "DONE 199\n"
     ]
    }
   ],
   "source": [
    "# can act?\n",
    "state = env.reset()\n",
    "for sn in range(2000):\n",
    "  p_0 = search(m, state, debug=False)\n",
    "  a_1 = np.random.choice(list(range(len(p_0))), p=p_0)\n",
    "  #a_1 = np.argmax(p_0)\n",
    "  #print(p_0, v_0, a_1)\n",
    "  env.render()\n",
    "  state,r,done,_ = env.step(a_1)\n",
    "  if done:\n",
    "    print(\"DONE\", sn)\n",
    "    break"
   ]
  },
  {
   "cell_type": "code",
   "execution_count": null,
   "metadata": {},
   "outputs": [],
   "source": []
  },
  {
   "cell_type": "code",
   "execution_count": 23,
   "metadata": {},
   "outputs": [],
   "source": [
    "def to_one_hot(x,n):\n",
    "  ret = np.zeros([n])\n",
    "  ret[x] = 1.0\n",
    "  return ret\n",
    "\n",
    "# enumerate the whole action space\n",
    "K = 5\n",
    "import itertools\n",
    "aopts = list(itertools.product([0,1], repeat=K))\n",
    "aoptss = np.array([[to_one_hot(x, env.action_space.n) for x in aa] for aa in aopts])\n",
    "aoptss = aoptss.swapaxes(0,1)\n",
    "aoptss = [aoptss[x] for x in range(K)]\n",
    "\n",
    "# TODO: this is naive search, replace with MCTS\n",
    "def search(m, o_0, debug=False):\n",
    "  # concatenate the current state with every possible action\n",
    "  o_0s = np.repeat(np.array(o_0)[None], len(aopts), axis=0)\n",
    "  ret = m.mu.predict([o_0s]+aoptss)\n",
    "  v_s = ret[-3]\n",
    "  \n",
    "  # group the value with the action rollout that caused it\n",
    "  v = [(v_s[i][0], aopts[i]) for i in range(len(v_s))]\n",
    "  if debug:\n",
    "    print(sorted(v, reverse=True))\n",
    "  \n",
    "  av = [0] * env.action_space.n\n",
    "  for vk, ak in v:\n",
    "    av[ak[0]] += vk\n",
    "    \n",
    "  policy = np.exp(av)/sum(np.exp(av))\n",
    "  return policy"
   ]
  }
 ],
 "metadata": {
  "kernelspec": {
   "display_name": "Python 3",
   "language": "python",
   "name": "python3"
  },
  "language_info": {
   "codemirror_mode": {
    "name": "ipython",
    "version": 3
   },
   "file_extension": ".py",
   "mimetype": "text/x-python",
   "name": "python",
   "nbconvert_exporter": "python",
   "pygments_lexer": "ipython3",
   "version": "3.7.6"
  }
 },
 "nbformat": 4,
 "nbformat_minor": 2
}
