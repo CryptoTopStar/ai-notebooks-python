{
 "cells": [
  {
   "cell_type": "code",
   "execution_count": 1,
   "metadata": {},
   "outputs": [
    {
     "name": "stdout",
     "output_type": "stream",
     "text": [
      "Populating the interactive namespace from numpy and matplotlib\n"
     ]
    }
   ],
   "source": [
    "%load_ext autoreload\n",
    "%autoreload 2\n",
    "%pylab inline\n",
    "import tensorflow as tf\n",
    "import numpy as np\n",
    "import gym\n",
    "from tqdm import tqdm, trange\n",
    "import os,sys\n",
    "sys.path.append(os.getcwd())"
   ]
  },
  {
   "cell_type": "code",
   "execution_count": 2,
   "metadata": {},
   "outputs": [],
   "source": [
    "from muzero.model import MuModel"
   ]
  },
  {
   "cell_type": "code",
   "execution_count": 3,
   "metadata": {},
   "outputs": [
    {
     "name": "stdout",
     "output_type": "stream",
     "text": [
      "WARNING:tensorflow:From /usr/local/lib/python3.7/site-packages/tensorflow_core/python/ops/resource_variable_ops.py:1630: calling BaseResourceVariable.__init__ (from tensorflow.python.ops.resource_variable_ops) with constraint is deprecated and will be removed in a future version.\n",
      "Instructions for updating:\n",
      "If using Keras pass *_constraint arguments to layers.\n"
     ]
    },
    {
     "data": {
      "text/plain": [
       "(array([ 0.00968296, -0.01586482], dtype=float32),\n",
       " array([0.00260319], dtype=float32))"
      ]
     },
     "execution_count": 3,
     "metadata": {},
     "output_type": "execute_result"
    }
   ],
   "source": [
    "env = gym.make(\"CartPole-v0\")\n",
    "m = MuModel(env.observation_space.shape, env.action_space.n)\n",
    "env.reset()\n",
    "m.ft(m.ht(env.state))"
   ]
  },
  {
   "cell_type": "code",
   "execution_count": 4,
   "metadata": {},
   "outputs": [],
   "source": [
    "from muzero.game import Game, ReplayBuffer\n",
    "replay_buffer = ReplayBuffer(100, 128)"
   ]
  },
  {
   "cell_type": "code",
   "execution_count": 5,
   "metadata": {},
   "outputs": [],
   "source": [
    "def to_one_hot(x,n):\n",
    "  ret = np.zeros([n])\n",
    "  ret[x] = 1.0\n",
    "  return ret\n",
    "\n",
    "# enumerate the whole action space\n",
    "K = 5\n",
    "import itertools\n",
    "aopts = list(itertools.product([0,1], repeat=K))\n",
    "aoptss = np.array([[to_one_hot(x, 2) for x in aa] for aa in aopts])\n",
    "aoptss = aoptss.swapaxes(0,1)\n",
    "aoptss = [aoptss[x] for x in range(K)]\n",
    "\n",
    "# TODO: this is naive search, replace with MCTS\n",
    "def search(m, o_0, debug=False):\n",
    "  # concatenate the current state with every possible action\n",
    "  o_0s = np.repeat(np.array(o_0)[None], len(aopts), axis=0)\n",
    "  ret = m.mu.predict([o_0s]+aoptss)\n",
    "  v_s = ret[-3]\n",
    "  \n",
    "  # group the value with the action rollout that caused it\n",
    "  v = [(v_s[i][0], aopts[i]) for i in range(len(v_s))]\n",
    "  if debug:\n",
    "    print(sorted(v, reverse=True))\n",
    "  \n",
    "  av = [0,0]\n",
    "  for vk, ak in v:\n",
    "    av[ak[0]] += vk\n",
    "    \n",
    "  policy = np.exp(av)/sum(np.exp(av))\n",
    "  return policy"
   ]
  },
  {
   "cell_type": "code",
   "execution_count": 6,
   "metadata": {},
   "outputs": [],
   "source": [
    "def play_game():\n",
    "  import random\n",
    "  game = Game(env)\n",
    "  env.reset()\n",
    "  while not game.terminal():\n",
    "    act = np.random.choice([0,1], p=search(m, env.state))\n",
    "    game.apply(act)\n",
    "  return game"
   ]
  },
  {
   "cell_type": "code",
   "execution_count": 7,
   "metadata": {},
   "outputs": [
    {
     "name": "stdout",
     "output_type": "stream",
     "text": [
      "WARNING:tensorflow:From /usr/local/lib/python3.7/site-packages/tensorflow_core/python/ops/math_grad.py:1424: where (from tensorflow.python.ops.array_ops) is deprecated and will be removed in a future version.\n",
      "Instructions for updating:\n",
      "Use tf.where in 2.0, which has the same broadcast rule as np.where\n",
      "15 335.47778\n",
      "11 209.35901\n",
      "15 168.80154\n",
      "10 150.43478\n",
      "10 123.98081\n",
      "89 267.5024\n",
      "14 189.80391\n",
      "25 210.63751\n",
      "16 152.61766\n",
      "10 175.94736\n",
      "13 188.17014\n",
      "9 132.08826\n",
      "10 101.0262\n",
      "11 106.30493\n",
      "14 140.6076\n",
      "10 135.57143\n",
      "21 109.742035\n",
      "12 130.79973\n",
      "12 109.0109\n",
      "9 108.41203\n",
      "10 125.23804\n",
      "13 120.380295\n",
      "14 103.078926\n",
      "15 102.34717\n",
      "19 110.33625\n",
      "16 119.733025\n",
      "13 99.344475\n",
      "13 91.913475\n",
      "9 98.54271\n",
      "18 87.91856\n",
      "13 98.2835\n",
      "133 98.660385\n",
      "24 74.05045\n",
      "40 51.469078\n",
      "67 75.15862\n",
      "63 87.81295\n",
      "54 51.435726\n",
      "111 78.900536\n",
      "112 95.64107\n",
      "200 76.765495\n",
      "200 99.147\n",
      "112 87.08805\n",
      "92 81.26444\n",
      "200 89.88693\n",
      "94 102.912415\n",
      "200 100.32068\n",
      "105 83.801704\n",
      "200 90.55931\n",
      "137 83.16762\n",
      "200 101.72211\n"
     ]
    }
   ],
   "source": [
    "from muzero.model import reformat_batch\n",
    "for j in range(50):\n",
    "  game = play_game()\n",
    "  replay_buffer.save_game(game)\n",
    "  for i in range(10):\n",
    "    m.train_on_batch(replay_buffer.sample_batch(5))\n",
    "  print(len(game.history), m.losses[-1][0])"
   ]
  },
  {
   "cell_type": "code",
   "execution_count": 11,
   "metadata": {},
   "outputs": [
    {
     "data": {
      "text/plain": [
       "[<matplotlib.lines.Line2D at 0x156219a50>]"
      ]
     },
     "execution_count": 11,
     "metadata": {},
     "output_type": "execute_result"
    },
    {
     "data": {
      "image/png": "[encoded data removed]",
      "text/plain": [
       "<Figure size 432x288 with 1 Axes>"
      ]
     },
     "metadata": {
      "needs_background": "light"
     },
     "output_type": "display_data"
    }
   ],
   "source": [
    "plot([x[0] for x in m.losses])"
   ]
  },
  {
   "cell_type": "code",
   "execution_count": 13,
   "metadata": {},
   "outputs": [
    {
     "name": "stdout",
     "output_type": "stream",
     "text": [
      "DONE 199\n"
     ]
    }
   ],
   "source": [
    "# can act?\n",
    "env.reset()\n",
    "for sn in range(200):\n",
    "  p_0 = search(m, env.state, debug=False)\n",
    "  v_0 = m.ft(m.ht(env.state))\n",
    "  a_1 = np.random.choice([0,1], p=p_0)\n",
    "  #a_1 = np.argmax(p_0)\n",
    "  #print(p_0, v_0, a_1)\n",
    "  env.render()\n",
    "  _,r,done,_ = env.step(a_1)\n",
    "  if done:\n",
    "    print(\"DONE\", sn)\n",
    "    break"
   ]
  },
  {
   "cell_type": "code",
   "execution_count": null,
   "metadata": {},
   "outputs": [],
   "source": []
  }
 ],
 "metadata": {
  "kernelspec": {
   "display_name": "Python 3",
   "language": "python",
   "name": "python3"
  },
  "language_info": {
   "codemirror_mode": {
    "name": "ipython",
    "version": 3
   },
   "file_extension": ".py",
   "mimetype": "text/x-python",
   "name": "python",
   "nbconvert_exporter": "python",
   "pygments_lexer": "ipython3",
   "version": "3.7.6"
  }
 },
 "nbformat": 4,
 "nbformat_minor": 2
}
